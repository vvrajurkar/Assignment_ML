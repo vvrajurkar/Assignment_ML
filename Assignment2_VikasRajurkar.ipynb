{
 "cells": [
  {
   "cell_type": "markdown",
   "metadata": {},
   "source": [
    "# Task 1:"
   ]
  },
  {
   "cell_type": "markdown",
   "metadata": {},
   "source": [
    "### 1.1 Write a Python Program to implement your own myreduce() function which works exactly like Python's built-in function reduce()"
   ]
  },
  {
   "cell_type": "code",
   "execution_count": 49,
   "metadata": {},
   "outputs": [
    {
     "name": "stdout",
     "output_type": "stream",
     "text": [
      "Enter total number to be added in list - 3\n",
      "5\n",
      "6\n",
      "7\n",
      "Numbers present in list are -  [5, 6, 7]\n",
      "Enter operation to be perform add / subtract / multiply - multiply\n",
      "Result of myreduce function is -  210\n"
     ]
    }
   ],
   "source": [
    "# function definition - not sure which all operations are done with reduce. I have implemented , add, subtract and multiply\n",
    "def myreduce(operator, inputlist):\n",
    "    if operator == \"add\":\n",
    "        result=0\n",
    "        for num in inputlist:\n",
    "            result += num\n",
    "    elif operator == \"subtract\":\n",
    "        result=0\n",
    "        for num in inputlist:\n",
    "            result -= num  \n",
    "    elif operator == \"multiply\":\n",
    "        result=1\n",
    "        for num in inputlist:\n",
    "            result *= num   \n",
    "    print(\"Result of myreduce function is - \", result)\n",
    "\n",
    "# Function definition ends--------------------------   \n",
    "# Main program starts\n",
    "count=int(input(\"Enter total number to be added in list - \"))\n",
    "list1=[]\n",
    "for n in range(0,count):\n",
    "    n=int(input())\n",
    "    list1.append(n)\n",
    "print (\"Numbers present in list are - \",list1)\n",
    "op = input(\"Enter operation to be perform add / subtract / multiply - \")\n",
    "# function call\n",
    "myreduce(op,list1)"
   ]
  },
  {
   "cell_type": "markdown",
   "metadata": {},
   "source": [
    "### 1.2 Write a Python program to implement your own myfilter() function which works exactly like Python's built-in function filter()"
   ]
  },
  {
   "cell_type": "code",
   "execution_count": 80,
   "metadata": {},
   "outputs": [
    {
     "name": "stdout",
     "output_type": "stream",
     "text": [
      "The filtered vowels are:\n",
      "a\n",
      "e\n",
      "i\n",
      "o\n",
      "u\n",
      "The filtered odd numbers are:\n",
      "3\n",
      "5\n",
      "7\n",
      "9\n",
      "The filtered even numbers are:\n",
      "2\n",
      "4\n",
      "6\n",
      "8\n"
     ]
    }
   ],
   "source": [
    "# Definition of myfilter\n",
    "def myfilter(fn,seq):\n",
    "    filteredList=[]\n",
    "    for item in seq:\n",
    "    #    print (item)\n",
    "        bln= fn(item)\n",
    "        if bln== True:\n",
    "            filteredList.append(item)\n",
    "    return filteredList\n",
    "\n",
    "# function that filters vowels         \n",
    "def fun(variable): \n",
    "    letters = ['a', 'e', 'i', 'o', 'u'] \n",
    "    if (variable in letters): \n",
    "        return True\n",
    "    else: \n",
    "        return False\n",
    "# function that filters odd numbers\n",
    "def odd(variable):\n",
    "  #  print(variable)\n",
    "    if (int(variable) % 2 == 1):\n",
    "        return True\n",
    "    else: \n",
    "        return False\n",
    "# function that filters even numbers\n",
    "def even(variable):\n",
    "  #  print(variable)\n",
    "    if (int(variable) % 2 == 0):\n",
    "        return True\n",
    "    else: \n",
    "        return False\n",
    "    \n",
    "# input sequence of data\n",
    "sequence = ['g', 'a', 'e', 'j', 'k','i', 's', 'p', 'o', 'r', 'u'] \n",
    "numbers = ['2','3','4','5','6','7','8','9']  \n",
    "\n",
    "# calling myfilter function \n",
    "filtered = myfilter(fun, sequence) \n",
    "print('The filtered vowels are:') \n",
    "for s in filtered: \n",
    "    print(s) \n",
    "filtered = myfilter(odd, numbers) \n",
    "print('The filtered odd numbers are:') \n",
    "for o in filtered: \n",
    "    print(o) \n",
    "filtered = myfilter(even, numbers) \n",
    "print('The filtered even numbers are:') \n",
    "for e in filtered: \n",
    "    print(e) "
   ]
  },
  {
   "cell_type": "markdown",
   "metadata": {},
   "source": [
    "### 2.Implement List comprehensions to produce the following lists."
   ]
  },
  {
   "cell_type": "raw",
   "metadata": {},
   "source": [
    "Write List comprehensions to produce the following Lists\n",
    "['A', 'C', 'A', 'D', 'G', 'I', ’L’, ‘ D’]\n",
    "['x', 'xx', 'xxx', 'xxxx', 'y', 'yy', 'yyy', 'yyyy', 'z', 'zz', 'zzz', 'zzzz']\n",
    "['x', 'y', 'z', 'xx', 'yy', 'zz', 'xx', 'yy', 'zz', 'xxxx', 'yyyy', 'zzzz']\n",
    "[[2], [3], [4], [3], [4], [5], [4], [5], [6]]\n",
    "[[2, 3, 4, 5], [3, 4, 5, 6], [4, 5, 6, 7], [5, 6, 7, 8]]\n",
    "[(1, 1), (2, 1), (3, 1), (1, 2), (2, 2), (3, 2), (1, 3), (2, 3), (3, 3)]"
   ]
  },
  {
   "cell_type": "code",
   "execution_count": 34,
   "metadata": {},
   "outputs": [
    {
     "name": "stdout",
     "output_type": "stream",
     "text": [
      "['A', 'C', 'A', 'D', 'G', 'I', 'L', 'D']\n",
      "['A', 'C', 'A', 'D', 'G', 'I', 'L', 'D']\n"
     ]
    }
   ],
   "source": [
    "# ['A', 'C', 'A', 'D', 'G', 'I', ’L’, ‘ D’]\n",
    "inputWord='ACADGILD'\n",
    "#Using For loop\n",
    "C1_letter=[]\n",
    "for letter in inputWord:\n",
    "    C1_letter.append(letter)\n",
    "print (C1_letter)\n",
    "\n",
    "#Using List comprehension\n",
    "C2_letters = [letter for letter in inputWord]\n",
    "print(C2_letters)"
   ]
  },
  {
   "cell_type": "code",
   "execution_count": 35,
   "metadata": {},
   "outputs": [
    {
     "name": "stdout",
     "output_type": "stream",
     "text": [
      "['x', 'xx', 'xxx', 'xxxx', 'y', 'yy', 'yyy', 'yyyy', 'z', 'zz', 'zzz', 'zzzz']\n",
      "['x', 'xx', 'xxx', 'xxxx', 'y', 'yy', 'yyy', 'yyyy', 'z', 'zz', 'zzz', 'zzzz']\n"
     ]
    }
   ],
   "source": [
    "#['x', 'xx', 'xxx', 'xxxx', 'y', 'yy', 'yyy', 'yyyy', 'z', 'zz', 'zzz', 'zzzz']\n",
    "inputList= ['x', 'y', 'z']\n",
    "#Using For loop\n",
    "outList1=[]\n",
    "for inputListItem in inputList:\n",
    "    for num in range(1,5):\n",
    "        outList1.append(inputListItem*num)\n",
    "print (outList1)\n",
    "\n",
    "#Using List comprehension\n",
    "result =[inputListItem*num for inputListItem in inputList for num in range(1,5)]\n",
    "print (result)"
   ]
  },
  {
   "cell_type": "code",
   "execution_count": 36,
   "metadata": {},
   "outputs": [
    {
     "name": "stdout",
     "output_type": "stream",
     "text": [
      "['x', 'y', 'z', 'xx', 'yy', 'zz', 'xxx', 'yyy', 'zzz', 'xxxx', 'yyyy', 'zzzz']\n",
      "['x', 'y', 'z', 'xx', 'yy', 'zz', 'xxx', 'yyy', 'zzz', 'xxxx', 'yyyy', 'zzzz']\n"
     ]
    }
   ],
   "source": [
    "#['x', 'y', 'z', 'xx', 'yy', 'zz', 'xx', 'yy', 'zz', 'xxxx', 'yyyy', 'zzzz']\n",
    "inputList= ['x', 'y', 'z']\n",
    "#Using For loop\n",
    "outList2=[]\n",
    "for num in range(1,5):\n",
    "    for inputListItem in inputList:\n",
    "        outList2.append(inputListItem*num)\n",
    "print(outList2)       \n",
    "\n",
    "#Using List comprehension\n",
    "result =[inputListItem*num for num in range(1,5) for inputListItem in inputList]\n",
    "print (result)"
   ]
  },
  {
   "cell_type": "code",
   "execution_count": 42,
   "metadata": {},
   "outputs": [
    {
     "name": "stdout",
     "output_type": "stream",
     "text": [
      "[[2], [3], [4], [3], [4], [5], [4], [5], [6]]\n",
      "[[2], [3], [4], [3], [4], [5], [4], [5], [6]]\n"
     ]
    }
   ],
   "source": [
    "#[[2], [3], [4], [3], [4], [5], [4], [5], [6]]\n",
    "inputList=[2,3,4]\n",
    "outList3=[]\n",
    "#using for loop\n",
    "for item in inputList:\n",
    "    for num in range(0,3):\n",
    "        outList3.append([item+num])\n",
    "print(outList3)     \n",
    "\n",
    "#Using List comprehension\n",
    "result = [[item+num] for item in inputList for num in range(0,3)]\n",
    "print(result)\n"
   ]
  },
  {
   "cell_type": "code",
   "execution_count": 221,
   "metadata": {},
   "outputs": [
    {
     "name": "stdout",
     "output_type": "stream",
     "text": [
      "[[2, 3, 4, 5], [3, 4, 5, 6], [4, 5, 6, 7], [5, 6, 7, 8]]\n",
      "[[2, 3, 4, 5], [3, 4, 5, 6], [4, 5, 6, 7], [5, 6, 7, 8]]\n"
     ]
    }
   ],
   "source": [
    "#[[2, 3, 4, 5], [3, 4, 5, 6], [4, 5, 6, 7], [5, 6, 7, 8]]\n",
    "inputList=[2,3,4,5]\n",
    "outList4=[]\n",
    "outerList=[]\n",
    "#using for loop\n",
    "for num in range(0,4):\n",
    "    for item in inputList:\n",
    "        outList4.append(item+num)\n",
    "    outerList.append(outList4)\n",
    "    outList4=[]\n",
    "print(outerList)\n",
    "\n",
    "\n",
    "#Using List comprehension\n",
    "result = [ [item+num for item in inputList] for num in range(0,4)  ]\n",
    "print(result)"
   ]
  },
  {
   "cell_type": "code",
   "execution_count": 193,
   "metadata": {},
   "outputs": [
    {
     "name": "stdout",
     "output_type": "stream",
     "text": [
      "[(1, 1), (2, 1), (3, 1), (1, 2), (2, 2), (3, 2), (1, 3), (2, 3), (3, 3)]\n",
      "[(1, 1), (2, 1), (3, 1), (1, 2), (2, 2), (3, 2), (1, 3), (2, 3), (3, 3)]\n"
     ]
    }
   ],
   "source": [
    "# [(1, 1), (2, 1), (3, 1), (1, 2), (2, 2), (3, 2), (1, 3), (2, 3), (3, 3)]\n",
    "inputList = [1,2,3]\n",
    "outList5=[]\n",
    "#using for loop\n",
    "for a in inputList:\n",
    "    for b in inputList:\n",
    "        outList5.append((b,a))\n",
    "print(outList5)       \n",
    "    \n",
    "#Using List comprehension\n",
    "result = [ (b,a) for a in inputList for b in inputList]\n",
    "print(result)"
   ]
  },
  {
   "cell_type": "markdown",
   "metadata": {},
   "source": [
    "### 3.Implement a function longestWord() that takes a list of words and returns the longest one."
   ]
  },
  {
   "cell_type": "code",
   "execution_count": 130,
   "metadata": {},
   "outputs": [
    {
     "name": "stdout",
     "output_type": "stream",
     "text": [
      "Enter number of words you need for comparison - 5\n",
      "Enter word 1- test\n",
      "Enter word 2- wow\n",
      "Enter word 3- there\n",
      "Enter word 4- kudoes\n",
      "Enter word 5- zingalala\n",
      "Longest word from the list is -  zingalala\n"
     ]
    }
   ],
   "source": [
    "#Define LongestWord()\n",
    "def longestWord(wl, c):\n",
    "    longest=''\n",
    "    for w in range(0,c):\n",
    "        if (len(wl[w])>len(longest)):\n",
    "            longest = wl[w]\n",
    "    return longest\n",
    "\n",
    "# Main code\n",
    "wc=int(input(\"Enter number of words you need for comparison - \"))\n",
    "wordlist=[]\n",
    "for i in range(0,wc):\n",
    "    word=str(input(\"Enter word \"+ str(i+1) + \"- \"))\n",
    "    wordlist.append(word)\n",
    "cnt =len(wordlist)\n",
    "\n",
    "# Call longestWord()\n",
    "LongestWordResult = longestWord(wordlist, cnt)\n",
    "print(\"Longest word from the list is - \",LongestWordResult)"
   ]
  },
  {
   "cell_type": "markdown",
   "metadata": {},
   "source": [
    "# Task 2:"
   ]
  },
  {
   "cell_type": "markdown",
   "metadata": {},
   "source": [
    "### 1.1 Write a Python Program(with class concepts) to find the area of the triangle using the below formula."
   ]
  },
  {
   "cell_type": "raw",
   "metadata": {},
   "source": [
    "area = (s*(s-a)*(s-b)*(s-c)) ** 0.5\n",
    "Function to take the length of the sides of triangle from user should be defined in the parent\n",
    "class and function to calculate the area should be defined in subclass."
   ]
  },
  {
   "cell_type": "code",
   "execution_count": 19,
   "metadata": {},
   "outputs": [
    {
     "name": "stdout",
     "output_type": "stream",
     "text": [
      "Enter length of side A of a traingle -> 7\n",
      "Enter length of side B of a traingle -> 4\n",
      "Enter length of side C of a traingle -> 9\n",
      "Area of triangle is -> 13.416407864998739\n"
     ]
    }
   ],
   "source": [
    "#Program to find area without class\n",
    "#Define findTriangleArea\n",
    "def findTriangleArea(a,b,c):\n",
    "    s=(a+b+c)/2\n",
    "    area =(s*(s-a)*(s-b)*(s-c)) ** 0.5\n",
    "    return area\n",
    "\n",
    "#Main code\n",
    "a=int(input(\"Enter length of side A of a traingle -> \"))\n",
    "b=int(input(\"Enter length of side B of a traingle -> \"))\n",
    "c=int(input(\"Enter length of side C of a traingle -> \"))\n",
    "\n",
    "#call findTriangleArea\n",
    "areaT = findTriangleArea(a,b,c)\n",
    "print(\"Area of triangle is -> \"+str(areaT))"
   ]
  },
  {
   "cell_type": "code",
   "execution_count": 21,
   "metadata": {},
   "outputs": [
    {
     "name": "stdout",
     "output_type": "stream",
     "text": [
      "Enter length of side A of a traingle -> 7\n",
      "Enter length of side B of a traingle -> 4\n",
      "Enter length of side C of a traingle -> 9\n",
      "Area of triangle is -> 13.416407864998739\n"
     ]
    }
   ],
   "source": [
    "#Program to find area using class concept\n",
    "class Area:\n",
    "    def __init__(self, a,b,c):\n",
    "        self.a = a\n",
    "        self.b = b\n",
    "        self.c = c\n",
    "    def findTriangleArea(self):\n",
    "        s=(self.a+self.b+self.c)/2\n",
    "        areaOfTraingle =(s*(s-self.a)*(s-self.b)*(s-self.c)) ** 0.5\n",
    "        print(\"Area of triangle is -> \"+str(areaOfTraingle))\n",
    "\n",
    "    #Main code\n",
    "a=int(input(\"Enter length of side A of a traingle -> \"))\n",
    "b=int(input(\"Enter length of side B of a traingle -> \"))\n",
    "c=int(input(\"Enter length of side C of a traingle -> \"))\n",
    "\n",
    "A1 = Area(a,b,c)\n",
    "A1.findTriangleArea()\n"
   ]
  },
  {
   "cell_type": "markdown",
   "metadata": {},
   "source": [
    "### 1.2 Write a function filter_long_words() that takes a list of words and an integer n and returns the list of words that are longer than n."
   ]
  },
  {
   "cell_type": "code",
   "execution_count": 14,
   "metadata": {},
   "outputs": [
    {
     "name": "stdout",
     "output_type": "stream",
     "text": [
      "Enter number of words you need for comparison - 5\n",
      "Enter word 1- test\n",
      "Enter word 2- program\n",
      "Enter word 3- for\n",
      "Enter word 4- words\n",
      "Enter word 5- length\n",
      "Enter an integer against which you need to compare word legth - 4\n",
      "\n",
      "Words longer than 4 characters are as below - \n"
     ]
    },
    {
     "data": {
      "text/plain": [
       "['program', 'words', 'length']"
      ]
     },
     "execution_count": 14,
     "metadata": {},
     "output_type": "execute_result"
    }
   ],
   "source": [
    "#Define LongestWord()\n",
    "def longestWord(wl, c, ci):\n",
    "    longerThanInt=[]\n",
    "    for w in range(0,c):\n",
    "        if (len(wl[w])>ci):\n",
    "            longerThanInt.append(wl[w])\n",
    "    return longerThanInt\n",
    "\n",
    "# Main code\n",
    "wc=int(input(\"Enter number of words you need for comparison - \"))\n",
    "wordlist=[]\n",
    "for i in range(0,wc):\n",
    "    word=str(input(\"Enter word \"+ str(i+1) + \"- \"))\n",
    "    wordlist.append(word)\n",
    "cnt =len(wordlist)\n",
    "compInt=int(input(\"Enter an integer against which you need to compare word legth - \"))\n",
    "\n",
    "# Call longestWord()\n",
    "lti=[]\n",
    "lti = longestWord(wordlist, cnt, compInt)\n",
    "print(\"\\nWords longer than \"+ str(compInt)+ \" characters are as below - \")\n",
    "lti"
   ]
  },
  {
   "cell_type": "markdown",
   "metadata": {},
   "source": [
    "### 2.1 Write a Python program using function concept that maps list of words into a list of integers representing the lengths of the corresponding words ."
   ]
  },
  {
   "cell_type": "raw",
   "metadata": {},
   "source": [
    "Hint: If a list [ ab,cde,erty] is passed on to the python function output should come as [2,3,4]\n",
    "Here 2,3 and 4 are the lengths of the words in the list."
   ]
  },
  {
   "cell_type": "code",
   "execution_count": 5,
   "metadata": {},
   "outputs": [
    {
     "name": "stdout",
     "output_type": "stream",
     "text": [
      "Enter number of words you need for length count - 4\n",
      "Enter word 1- this\n",
      "Enter word 2- is\n",
      "Enter word 3- length\n",
      "Enter word 4- program\n"
     ]
    },
    {
     "data": {
      "text/plain": [
       "[4, 2, 6, 7]"
      ]
     },
     "execution_count": 5,
     "metadata": {},
     "output_type": "execute_result"
    }
   ],
   "source": [
    "#Define LengthOfWord()\n",
    "def lengthOfWord(wl, c):\n",
    "    lengthList=[]\n",
    "    for w in range(0,c):\n",
    "        lengthList.append(len(wl[w]))\n",
    "    return lengthList\n",
    "\n",
    "# Main code\n",
    "wc=int(input(\"Enter number of words you need for length count - \"))\n",
    "wordlist=[]\n",
    "for i in range(0,wc):\n",
    "    word=str(input(\"Enter word \"+ str(i+1) + \"- \"))\n",
    "    wordlist.append(word)\n",
    "cnt =len(wordlist)\n",
    "\n",
    "# Call lengthOfWord()\n",
    "lengthListOut=[]\n",
    "lengthListOut = lengthOfWord(wordlist, cnt)\n",
    "lengthListOut"
   ]
  },
  {
   "cell_type": "markdown",
   "metadata": {},
   "source": [
    "### 2.2 Write a Python function which takes a character (i.e. a string of length 1) and returns True if it is a vowel, False otherwise."
   ]
  },
  {
   "cell_type": "code",
   "execution_count": 12,
   "metadata": {},
   "outputs": [
    {
     "name": "stdout",
     "output_type": "stream",
     "text": [
      "Enter a charater - i\n",
      "Input Character i is a vowel\n"
     ]
    }
   ],
   "source": [
    "# function that filters vowels         \n",
    "def fun(variable): \n",
    "    letters = ['a', 'e', 'i', 'o', 'u'] \n",
    "    if (variable in letters): \n",
    "        return True\n",
    "    else: \n",
    "        return False\n",
    "\n",
    "# Main code\n",
    "inChar=input(\"Enter a charater - \")\n",
    "out = fun(inChar)\n",
    "if (out== True):\n",
    "    print(\"Input Character \"+ inChar + \" is a vowel\")\n",
    "else:\n",
    "    print(\"Input Character \"+ inChar + \" is not a vowel\")\n"
   ]
  }
 ],
 "metadata": {
  "kernelspec": {
   "display_name": "Python 3",
   "language": "python",
   "name": "python3"
  },
  "language_info": {
   "codemirror_mode": {
    "name": "ipython",
    "version": 3
   },
   "file_extension": ".py",
   "mimetype": "text/x-python",
   "name": "python",
   "nbconvert_exporter": "python",
   "pygments_lexer": "ipython3",
   "version": "3.7.4"
  }
 },
 "nbformat": 4,
 "nbformat_minor": 2
}
